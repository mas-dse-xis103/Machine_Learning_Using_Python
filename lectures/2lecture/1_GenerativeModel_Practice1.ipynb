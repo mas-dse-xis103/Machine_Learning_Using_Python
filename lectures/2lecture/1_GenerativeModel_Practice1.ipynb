{
 "cells": [
  {
   "cell_type": "raw",
   "metadata": {
    "deletable": true,
    "editable": true
   },
   "source": [
    "1. Create a classification problem with 3 classes, 15 features and 5000 rows\n",
    "2. Take the last 1000 rows to be the test set\n",
    "3. Run Gaussian naive bayes on this problem and report test accuracy\n",
    "4. Calculate class prior probabilities for each class in training data (first 4k rows)\n",
    "5. Calculate the probability of the samples for each class in the test set\n",
    "\n",
    "References:\n",
    "    http://scikit-learn.org/stable/modules/generated/sklearn.datasets.make_classification.html\n",
    "    http://scikit-learn.org/stable/modules/generated/sklearn.naive_bayes.GaussianNB.html#sklearn.naive_bayes.GaussianNB"
   ]
  },
  {
   "cell_type": "code",
   "execution_count": 21,
   "metadata": {
    "collapsed": true
   },
   "outputs": [],
   "source": [
    "from sklearn.datasets import make_classification\n",
    "from sklearn import datasets\n",
    "from sklearn.model_selection import train_test_split\n",
    "import numpy as np\n",
    "import pandas as pd"
   ]
  },
  {
   "cell_type": "code",
   "execution_count": 5,
   "metadata": {
    "collapsed": false
   },
   "outputs": [],
   "source": [
    "x,y = make_classification(n_samples=5000, n_features=15, n_classes=3, n_clusters_per_class=1)"
   ]
  },
  {
   "cell_type": "code",
   "execution_count": 22,
   "metadata": {
    "collapsed": true
   },
   "outputs": [],
   "source": [
    "X_train = x[4000:,:]\n",
    "y_train = y[4000:,:]\n",
    "X_test = x[-1000:,:]\n"
   ]
  },
  {
   "cell_type": "code",
   "execution_count": 7,
   "metadata": {
    "collapsed": true
   },
   "outputs": [],
   "source": [
    "X_train, X_test, y_train, y_test = train_test_split(x, y, test_size=0.2, random_state=10)"
   ]
  },
  {
   "cell_type": "code",
   "execution_count": 9,
   "metadata": {
    "collapsed": false
   },
   "outputs": [
    {
     "name": "stdout",
     "output_type": "stream",
     "text": [
      "(4000, 15)\n"
     ]
    }
   ],
   "source": [
    "print (X_train.shape)"
   ]
  },
  {
   "cell_type": "code",
   "execution_count": 11,
   "metadata": {
    "collapsed": false
   },
   "outputs": [],
   "source": [
    "X_traindf = pd.DataFrame(X_train)"
   ]
  },
  {
   "cell_type": "code",
   "execution_count": 12,
   "metadata": {
    "collapsed": false
   },
   "outputs": [
    {
     "data": {
      "text/html": [
       "<div>\n",
       "<table border=\"1\" class=\"dataframe\">\n",
       "  <thead>\n",
       "    <tr style=\"text-align: right;\">\n",
       "      <th></th>\n",
       "      <th>0</th>\n",
       "      <th>1</th>\n",
       "      <th>2</th>\n",
       "      <th>3</th>\n",
       "      <th>4</th>\n",
       "      <th>5</th>\n",
       "      <th>6</th>\n",
       "      <th>7</th>\n",
       "      <th>8</th>\n",
       "      <th>9</th>\n",
       "      <th>10</th>\n",
       "      <th>11</th>\n",
       "      <th>12</th>\n",
       "      <th>13</th>\n",
       "      <th>14</th>\n",
       "    </tr>\n",
       "  </thead>\n",
       "  <tbody>\n",
       "    <tr>\n",
       "      <th>0</th>\n",
       "      <td>-0.199175</td>\n",
       "      <td>-2.278735</td>\n",
       "      <td>0.396951</td>\n",
       "      <td>0.461957</td>\n",
       "      <td>0.002681</td>\n",
       "      <td>-0.891736</td>\n",
       "      <td>0.538786</td>\n",
       "      <td>0.758077</td>\n",
       "      <td>0.942607</td>\n",
       "      <td>1.711631</td>\n",
       "      <td>-1.023748</td>\n",
       "      <td>-0.559659</td>\n",
       "      <td>0.865234</td>\n",
       "      <td>-0.436135</td>\n",
       "      <td>-0.200791</td>\n",
       "    </tr>\n",
       "    <tr>\n",
       "      <th>1</th>\n",
       "      <td>-0.698199</td>\n",
       "      <td>-0.476732</td>\n",
       "      <td>-1.455085</td>\n",
       "      <td>0.399463</td>\n",
       "      <td>-0.758084</td>\n",
       "      <td>0.531664</td>\n",
       "      <td>-0.602351</td>\n",
       "      <td>-0.940915</td>\n",
       "      <td>0.154282</td>\n",
       "      <td>1.187020</td>\n",
       "      <td>-0.394662</td>\n",
       "      <td>-0.608931</td>\n",
       "      <td>-0.597053</td>\n",
       "      <td>-0.646144</td>\n",
       "      <td>0.872618</td>\n",
       "    </tr>\n",
       "    <tr>\n",
       "      <th>2</th>\n",
       "      <td>1.821882</td>\n",
       "      <td>0.006762</td>\n",
       "      <td>0.278080</td>\n",
       "      <td>0.608588</td>\n",
       "      <td>0.922179</td>\n",
       "      <td>-1.753189</td>\n",
       "      <td>0.931460</td>\n",
       "      <td>1.707489</td>\n",
       "      <td>0.069563</td>\n",
       "      <td>0.863771</td>\n",
       "      <td>-0.105263</td>\n",
       "      <td>-0.111135</td>\n",
       "      <td>0.673000</td>\n",
       "      <td>-0.896412</td>\n",
       "      <td>-0.729038</td>\n",
       "    </tr>\n",
       "    <tr>\n",
       "      <th>3</th>\n",
       "      <td>1.835703</td>\n",
       "      <td>-1.220404</td>\n",
       "      <td>0.031392</td>\n",
       "      <td>-0.520072</td>\n",
       "      <td>0.072100</td>\n",
       "      <td>0.980144</td>\n",
       "      <td>-0.800030</td>\n",
       "      <td>-0.824310</td>\n",
       "      <td>0.537730</td>\n",
       "      <td>-1.307466</td>\n",
       "      <td>-1.101015</td>\n",
       "      <td>-0.343556</td>\n",
       "      <td>-2.188345</td>\n",
       "      <td>-1.153325</td>\n",
       "      <td>0.206958</td>\n",
       "    </tr>\n",
       "    <tr>\n",
       "      <th>4</th>\n",
       "      <td>-2.135743</td>\n",
       "      <td>0.538014</td>\n",
       "      <td>1.839965</td>\n",
       "      <td>0.635819</td>\n",
       "      <td>-1.391765</td>\n",
       "      <td>-0.105679</td>\n",
       "      <td>-0.506300</td>\n",
       "      <td>-0.331135</td>\n",
       "      <td>-0.002808</td>\n",
       "      <td>0.803605</td>\n",
       "      <td>1.064648</td>\n",
       "      <td>0.410060</td>\n",
       "      <td>-1.909809</td>\n",
       "      <td>0.836630</td>\n",
       "      <td>0.624450</td>\n",
       "    </tr>\n",
       "  </tbody>\n",
       "</table>\n",
       "</div>"
      ],
      "text/plain": [
       "         0         1         2         3         4         5         6   \\\n",
       "0 -0.199175 -2.278735  0.396951  0.461957  0.002681 -0.891736  0.538786   \n",
       "1 -0.698199 -0.476732 -1.455085  0.399463 -0.758084  0.531664 -0.602351   \n",
       "2  1.821882  0.006762  0.278080  0.608588  0.922179 -1.753189  0.931460   \n",
       "3  1.835703 -1.220404  0.031392 -0.520072  0.072100  0.980144 -0.800030   \n",
       "4 -2.135743  0.538014  1.839965  0.635819 -1.391765 -0.105679 -0.506300   \n",
       "\n",
       "         7         8         9         10        11        12        13  \\\n",
       "0  0.758077  0.942607  1.711631 -1.023748 -0.559659  0.865234 -0.436135   \n",
       "1 -0.940915  0.154282  1.187020 -0.394662 -0.608931 -0.597053 -0.646144   \n",
       "2  1.707489  0.069563  0.863771 -0.105263 -0.111135  0.673000 -0.896412   \n",
       "3 -0.824310  0.537730 -1.307466 -1.101015 -0.343556 -2.188345 -1.153325   \n",
       "4 -0.331135 -0.002808  0.803605  1.064648  0.410060 -1.909809  0.836630   \n",
       "\n",
       "         14  \n",
       "0 -0.200791  \n",
       "1  0.872618  \n",
       "2 -0.729038  \n",
       "3  0.206958  \n",
       "4  0.624450  "
      ]
     },
     "execution_count": 12,
     "metadata": {},
     "output_type": "execute_result"
    }
   ],
   "source": [
    "X_traindf.head()"
   ]
  },
  {
   "cell_type": "code",
   "execution_count": 13,
   "metadata": {
    "collapsed": true
   },
   "outputs": [],
   "source": [
    "y_traindf = pd.DataFrame(y_train)"
   ]
  },
  {
   "cell_type": "code",
   "execution_count": 14,
   "metadata": {
    "collapsed": false
   },
   "outputs": [
    {
     "name": "stdout",
     "output_type": "stream",
     "text": [
      "Training accuracy = 0.857\n",
      "Test accuracy = 0.865\n"
     ]
    }
   ],
   "source": [
    "from sklearn.naive_bayes import GaussianNB, MultinomialNB\n",
    "\n",
    "# Initialize Gaussian Naive Bayes\n",
    "gnb = GaussianNB()\n",
    "# Train the classifier\n",
    "gnb.fit(X_train, y_train)\n",
    "# Make predictions on test data\n",
    "y_pred = gnb.predict(X_test)\n",
    "y_train_pred = gnb.predict(X_train)\n",
    "\n",
    "# print the accuracy\n",
    "print ('Training accuracy = ' + str(np.sum(y_train_pred == y_train)/len(y_train)))\n",
    "print ('Test accuracy = ' + str(np.sum(y_pred == y_test)/len(y_test)))"
   ]
  },
  {
   "cell_type": "code",
   "execution_count": 20,
   "metadata": {
    "collapsed": false
   },
   "outputs": [
    {
     "name": "stderr",
     "output_type": "stream",
     "text": [
      "ERROR:root:Internal Python error in the inspect module.\n",
      "Below is the traceback from this internal error.\n",
      "\n"
     ]
    },
    {
     "name": "stdout",
     "output_type": "stream",
     "text": [
      "Traceback (most recent call last):\n",
      "  File \"/Users/xiasong/anaconda2/envs/py36/lib/python3.6/site-packages/IPython/core/interactiveshell.py\", line 2881, in run_code\n",
      "    exec(code_obj, self.user_global_ns, self.user_ns)\n",
      "  File \"<ipython-input-20-b037f4368dad>\", line 9, in <module>\n",
      "    clf.fit(X_train, y_train)\n",
      "  File \"/Users/xiasong/anaconda2/envs/py36/lib/python3.6/site-packages/sklearn/model_selection/_search.py\", line 945, in fit\n",
      "    return self._fit(X, y, groups, ParameterGrid(self.param_grid))\n",
      "  File \"/Users/xiasong/anaconda2/envs/py36/lib/python3.6/site-packages/sklearn/model_selection/_search.py\", line 564, in _fit\n",
      "    for parameters in parameter_iterable\n",
      "  File \"/Users/xiasong/anaconda2/envs/py36/lib/python3.6/site-packages/sklearn/externals/joblib/parallel.py\", line 758, in __call__\n",
      "    while self.dispatch_one_batch(iterator):\n",
      "  File \"/Users/xiasong/anaconda2/envs/py36/lib/python3.6/site-packages/sklearn/externals/joblib/parallel.py\", line 608, in dispatch_one_batch\n",
      "    self._dispatch(tasks)\n",
      "  File \"/Users/xiasong/anaconda2/envs/py36/lib/python3.6/site-packages/sklearn/externals/joblib/parallel.py\", line 571, in _dispatch\n",
      "    job = self._backend.apply_async(batch, callback=cb)\n",
      "  File \"/Users/xiasong/anaconda2/envs/py36/lib/python3.6/site-packages/sklearn/externals/joblib/_parallel_backends.py\", line 109, in apply_async\n",
      "    result = ImmediateResult(func)\n",
      "  File \"/Users/xiasong/anaconda2/envs/py36/lib/python3.6/site-packages/sklearn/externals/joblib/_parallel_backends.py\", line 326, in __init__\n",
      "    self.results = batch()\n",
      "  File \"/Users/xiasong/anaconda2/envs/py36/lib/python3.6/site-packages/sklearn/externals/joblib/parallel.py\", line 131, in __call__\n",
      "    return [func(*args, **kwargs) for func, args, kwargs in self.items]\n",
      "  File \"/Users/xiasong/anaconda2/envs/py36/lib/python3.6/site-packages/sklearn/externals/joblib/parallel.py\", line 131, in <listcomp>\n",
      "    return [func(*args, **kwargs) for func, args, kwargs in self.items]\n",
      "  File \"/Users/xiasong/anaconda2/envs/py36/lib/python3.6/site-packages/sklearn/model_selection/_validation.py\", line 238, in _fit_and_score\n",
      "    estimator.fit(X_train, y_train, **fit_params)\n",
      "  File \"/Users/xiasong/anaconda2/envs/py36/lib/python3.6/site-packages/sklearn/naive_bayes.py\", line 587, in fit\n",
      "    self._count(X, Y)\n",
      "  File \"/Users/xiasong/anaconda2/envs/py36/lib/python3.6/site-packages/sklearn/naive_bayes.py\", line 690, in _count\n",
      "    raise ValueError(\"Input X must be non-negative\")\n",
      "ValueError: Input X must be non-negative\n",
      "\n",
      "During handling of the above exception, another exception occurred:\n",
      "\n",
      "Traceback (most recent call last):\n",
      "  File \"/Users/xiasong/anaconda2/envs/py36/lib/python3.6/site-packages/IPython/core/interactiveshell.py\", line 1821, in showtraceback\n",
      "    stb = value._render_traceback_()\n",
      "AttributeError: 'ValueError' object has no attribute '_render_traceback_'\n",
      "\n",
      "During handling of the above exception, another exception occurred:\n",
      "\n",
      "Traceback (most recent call last):\n",
      "  File \"/Users/xiasong/anaconda2/envs/py36/lib/python3.6/site-packages/IPython/core/ultratb.py\", line 1132, in get_records\n",
      "    return _fixed_getinnerframes(etb, number_of_lines_of_context, tb_offset)\n",
      "  File \"/Users/xiasong/anaconda2/envs/py36/lib/python3.6/site-packages/IPython/core/ultratb.py\", line 313, in wrapped\n",
      "    return f(*args, **kwargs)\n",
      "  File \"/Users/xiasong/anaconda2/envs/py36/lib/python3.6/site-packages/IPython/core/ultratb.py\", line 358, in _fixed_getinnerframes\n",
      "    records = fix_frame_records_filenames(inspect.getinnerframes(etb, context))\n",
      "  File \"/Users/xiasong/anaconda2/envs/py36/lib/python3.6/inspect.py\", line 1453, in getinnerframes\n",
      "    frameinfo = (tb.tb_frame,) + getframeinfo(tb, context)\n",
      "  File \"/Users/xiasong/anaconda2/envs/py36/lib/python3.6/inspect.py\", line 1411, in getframeinfo\n",
      "    filename = getsourcefile(frame) or getfile(frame)\n",
      "  File \"/Users/xiasong/anaconda2/envs/py36/lib/python3.6/inspect.py\", line 666, in getsourcefile\n",
      "    if getattr(getmodule(object, filename), '__loader__', None) is not None:\n",
      "  File \"/Users/xiasong/anaconda2/envs/py36/lib/python3.6/inspect.py\", line 695, in getmodule\n",
      "    file = getabsfile(object, _filename)\n",
      "  File \"/Users/xiasong/anaconda2/envs/py36/lib/python3.6/inspect.py\", line 679, in getabsfile\n",
      "    return os.path.normcase(os.path.abspath(_filename))\n",
      "  File \"/Users/xiasong/anaconda2/envs/py36/lib/python3.6/posixpath.py\", line 374, in abspath\n",
      "    cwd = os.getcwd()\n",
      "FileNotFoundError: [Errno 2] No such file or directory\n"
     ]
    },
    {
     "ename": "ValueError",
     "evalue": "Input X must be non-negative",
     "output_type": "error",
     "traceback": [
      "\u001b[0;31m---------------------------------------------------------------------------\u001b[0m"
     ]
    }
   ],
   "source": [
    "from sklearn.model_selection import GridSearchCV\n",
    "from sklearn.metrics import accuracy_score\n",
    "\n",
    "#X_train, X_valid, y_train, y_valid = train_test_split(X_train, y_train, test_size=0.2, random_state=5)\n",
    "\n",
    "parameters = { 'alpha' : [0, 0.1, 0.5, 1, 2, 3, 4, 5, 10, 100] }\n",
    "mnb = MultinomialNB()\n",
    "clf = GridSearchCV(mnb, parameters)#, verbose=True)#, n_jobs=-1)\n",
    "clf.fit(X_train, y_train)\n",
    "y_pred = clf.predict(X_test)\n",
    "\n",
    "#accuracy = np.sum(y_pred == y_test)/len(y_test)\n",
    "accuracy = accuracy_score(y_pred, y_test)\n",
    "train_acc = accuracy_score(clf.predict(X_train), y_train)\n",
    "print ('Test accuracy = ' + str(accuracy))# + ' at alpha = ' + str(alpha))\n",
    "print ('Train accuracy = ' + str(train_acc)) \n",
    "print (clf.best_params_)"
   ]
  },
  {
   "cell_type": "code",
   "execution_count": null,
   "metadata": {
    "collapsed": true
   },
   "outputs": [],
   "source": []
  },
  {
   "cell_type": "code",
   "execution_count": null,
   "metadata": {
    "collapsed": true
   },
   "outputs": [],
   "source": []
  }
 ],
 "metadata": {
  "kernelspec": {
   "display_name": "Python [conda env:py36]",
   "language": "python",
   "name": "conda-env-py36-py"
  },
  "language_info": {
   "codemirror_mode": {
    "name": "ipython",
    "version": 3
   },
   "file_extension": ".py",
   "mimetype": "text/x-python",
   "name": "python",
   "nbconvert_exporter": "python",
   "pygments_lexer": "ipython3",
   "version": "3.6.1"
  }
 },
 "nbformat": 4,
 "nbformat_minor": 2
}
