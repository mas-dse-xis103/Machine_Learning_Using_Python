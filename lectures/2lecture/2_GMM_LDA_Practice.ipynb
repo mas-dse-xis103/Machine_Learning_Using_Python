{
 "cells": [
  {
   "cell_type": "markdown",
   "metadata": {},
   "source": [
    "# Practice Question\n",
    "\n",
    "## GMM\n",
    "\n",
    "1.1. Build a GMM on the Iris data (first 2 features) and tune your model for different covariance types.\n",
    "\n",
    "1.2. Plot the results as shown in the hands on.\n",
    "\n",
    "## LDA\n",
    "\n",
    "2.1. Perform Linear Discriminant Analysis on the Iris Data (first 2 features). \n",
    "\n",
    "2.2. Plot the results as shown in the hands on."
   ]
  },
  {
   "cell_type": "code",
   "execution_count": 5,
   "metadata": {
    "collapsed": true
   },
   "outputs": [],
   "source": [
    "from sklearn import datasets\n",
    "import numpy as np\n",
    "import pandas as pd\n",
    "from sklearn.model_selection import train_test_split\n",
    "from sklearn.metrics import accuracy_score\n",
    "from sklearn.mixture import GaussianMixture\n",
    "import numpy as np\n",
    "import pandas as pd\n",
    "\n",
    "import matplotlib as mpl\n",
    "import matplotlib.pyplot as plt\n",
    "%matplotlib inline"
   ]
  },
  {
   "cell_type": "code",
   "execution_count": 6,
   "metadata": {
    "collapsed": true
   },
   "outputs": [],
   "source": [
    "# Load the iris dataset\n",
    "iris = datasets.load_iris()\n",
    "X = iris.data[:, :2]\n",
    "y = iris.target"
   ]
  },
  {
   "cell_type": "code",
   "execution_count": 17,
   "metadata": {
    "collapsed": false
   },
   "outputs": [
    {
     "data": {
      "text/html": [
       "<div>\n",
       "<table border=\"1\" class=\"dataframe\">\n",
       "  <thead>\n",
       "    <tr style=\"text-align: right;\">\n",
       "      <th></th>\n",
       "      <th>0</th>\n",
       "      <th>1</th>\n",
       "    </tr>\n",
       "  </thead>\n",
       "  <tbody>\n",
       "    <tr>\n",
       "      <th>0</th>\n",
       "      <td>5.1</td>\n",
       "      <td>3.5</td>\n",
       "    </tr>\n",
       "    <tr>\n",
       "      <th>1</th>\n",
       "      <td>4.9</td>\n",
       "      <td>3.0</td>\n",
       "    </tr>\n",
       "    <tr>\n",
       "      <th>2</th>\n",
       "      <td>4.7</td>\n",
       "      <td>3.2</td>\n",
       "    </tr>\n",
       "    <tr>\n",
       "      <th>3</th>\n",
       "      <td>4.6</td>\n",
       "      <td>3.1</td>\n",
       "    </tr>\n",
       "    <tr>\n",
       "      <th>4</th>\n",
       "      <td>5.0</td>\n",
       "      <td>3.6</td>\n",
       "    </tr>\n",
       "  </tbody>\n",
       "</table>\n",
       "</div>"
      ],
      "text/plain": [
       "     0    1\n",
       "0  5.1  3.5\n",
       "1  4.9  3.0\n",
       "2  4.7  3.2\n",
       "3  4.6  3.1\n",
       "4  5.0  3.6"
      ]
     },
     "execution_count": 17,
     "metadata": {},
     "output_type": "execute_result"
    }
   ],
   "source": [
    "W = pd.DataFrame(X)\n",
    "W.head()"
   ]
  },
  {
   "cell_type": "code",
   "execution_count": 8,
   "metadata": {
    "collapsed": false
   },
   "outputs": [],
   "source": [
    "# Create training and test sets\n",
    "X_train, X_test, y_train, y_test = train_test_split(X, y, test_size=0.2, random_state=5)"
   ]
  },
  {
   "cell_type": "code",
   "execution_count": 29,
   "metadata": {
    "collapsed": false
   },
   "outputs": [
    {
     "name": "stdout",
     "output_type": "stream",
     "text": [
      "Train accuracy = 0.658333333333\n",
      "Test accuracy = 0.533333333333\n",
      "Train accuracy = 0.791666666667\n",
      "Test accuracy = 0.766666666667\n",
      "Train accuracy = 0.775\n",
      "Test accuracy = 0.8\n",
      "Train accuracy = 0.766666666667\n",
      "Test accuracy = 0.8\n"
     ]
    }
   ],
   "source": [
    "for m in ('full','diag','spherical','tied'):\n",
    "    clf = GaussianMixture(n_components=3, covariance_type=m)  \n",
    "\n",
    "    clf.means_init = np.array([X_train[y_train == i].mean(axis=0)\n",
    "                                for i in range(3)])\n",
    "# fit\n",
    "    clf.fit(X_train, y_train)\n",
    "# predict\n",
    "    pred_train = clf.predict(X_train)\n",
    "    pred = clf.predict(X_test)\n",
    "#evaluate\n",
    "    print ('Train accuracy = ' + str(accuracy_score(y_train, pred_train)))\n",
    "    print ('Test accuracy = ' + str(accuracy_score(y_test, pred)))"
   ]
  },
  {
   "cell_type": "code",
   "execution_count": 12,
   "metadata": {
    "collapsed": true
   },
   "outputs": [],
   "source": [
    "colors = ['navy', 'turquoise', 'darkorange']\n",
    "\n",
    "def make_ellipses(gmm, ax):\n",
    "    for n, color in enumerate(colors):\n",
    "        if gmm.covariance_type == 'full':\n",
    "            covariances = gmm.covariances_[n][:2, :2]\n",
    "        elif gmm.covariance_type == 'tied':\n",
    "            covariances = gmm.covariances_[:2, :2]\n",
    "        elif gmm.covariance_type == 'diag':\n",
    "            covariances = np.diag(gmm.covariances_[n][:2])\n",
    "        elif gmm.covariance_type == 'spherical':\n",
    "            covariances = np.eye(gmm.means_.shape[1]) * gmm.covariances_[n]\n",
    "        v, w = np.linalg.eigh(covariances)\n",
    "        u = w[0] / np.linalg.norm(w[0])\n",
    "        angle = np.arctan2(u[1], u[0])\n",
    "        angle = 180 * angle / np.pi  # convert to degrees\n",
    "        v = 2. * np.sqrt(2.) * np.sqrt(v)\n",
    "        ell = mpl.patches.Ellipse(gmm.means_[n, :2], v[0], v[1],\n",
    "                                  180 + angle, color=color)\n",
    "        ell.set_alpha(0.5)\n",
    "        ax.add_artist(ell)"
   ]
  },
  {
   "cell_type": "code",
   "execution_count": 28,
   "metadata": {
    "collapsed": false
   },
   "outputs": [
    {
     "data": {
      "image/png": "[encoded data removed]",
      "text/plain": [
       "<matplotlib.figure.Figure at 0x11788a6a0>"
      ]
     },
     "metadata": {},
     "output_type": "display_data"
    }
   ],
   "source": [
    "# Model\n",
    "estimator = GaussianMixture(n_components=3,\n",
    "                   covariance_type='full', max_iter=20, random_state=0)\n",
    "\n",
    "estimator.means_init = np.array([X_train[y_train == i].mean(axis=0)\n",
    "                                for i in range(3)])\n",
    "\n",
    "# Fit\n",
    "estimator.fit(X_train, y_train)\n",
    "\n",
    "# Plot\n",
    "plt.figure(figsize=(10,10))\n",
    "# plt.ylim([-1,3])\n",
    "# plt.xlim([11,15])\n",
    "plt.xlabel('0', fontsize=15)\n",
    "plt.ylabel('1', fontsize=15)\n",
    "h = plt.subplot()\n",
    "make_ellipses(estimator, h)\n",
    "\n",
    "# Plot train data with dots\n",
    "for n, color in enumerate(colors):\n",
    "    train_data = X_train[y_train == n]\n",
    "    plt.scatter(train_data[:,0], train_data[:,1], s=10, color=color)\n",
    "\n",
    "# Plot the test data with crosses\n",
    "for n, color in enumerate(colors):\n",
    "    test_data = X_test[y_test == n]\n",
    "    plt.scatter(test_data[:,0], test_data[:,1], marker='x', color=color)\n",
    "\n",
    "plt.title('Gaussian Mixture Model', fontsize=15)\n",
    "\n",
    "plt.show()"
   ]
  },
  {
   "cell_type": "code",
   "execution_count": 20,
   "metadata": {
    "collapsed": false
   },
   "outputs": [
    {
     "data": {
      "text/plain": [
       "array([ 5.1,  5.4,  5. ,  5. ,  5. ,  5.1,  5.1,  5.4,  5. ,  4.6,  5.7,\n",
       "        5.2,  4.6,  4.9,  5.2,  4.3,  4.8,  4.8,  4.9,  4.6,  4.9,  5.8,\n",
       "        5.4,  5.5,  4.7,  4.6,  4.8,  5.7,  5.1,  4.4,  4.7,  5.4,  5.5,\n",
       "        5. ,  5.1,  5.4,  4.5,  4.8,  5.1,  5.2,  5. ,  4.4])"
      ]
     },
     "execution_count": 20,
     "metadata": {},
     "output_type": "execute_result"
    }
   ],
   "source": [
    "train_data[:,0]"
   ]
  },
  {
   "cell_type": "code",
   "execution_count": null,
   "metadata": {
    "collapsed": true
   },
   "outputs": [],
   "source": []
  }
 ],
 "metadata": {
  "kernelspec": {
   "display_name": "Python [conda env:py36]",
   "language": "python",
   "name": "conda-env-py36-py"
  },
  "language_info": {
   "codemirror_mode": {
    "name": "ipython",
    "version": 3
   },
   "file_extension": ".py",
   "mimetype": "text/x-python",
   "name": "python",
   "nbconvert_exporter": "python",
   "pygments_lexer": "ipython3",
   "version": "3.6.1"
  }
 },
 "nbformat": 4,
 "nbformat_minor": 0
}
