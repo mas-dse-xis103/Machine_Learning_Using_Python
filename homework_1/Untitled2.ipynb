{
 "cells": [
  {
   "cell_type": "code",
   "execution_count": 1,
   "metadata": {
    "collapsed": true
   },
   "outputs": [],
   "source": [
    "from sklearn import datasets\n",
    "from sklearn.tree import DecisionTreeClassifier, export_graphviz\n",
    "import pydotplus\n",
    "from sklearn.model_selection import train_test_split\n",
    "import pandas as pd\n",
    "import numpy as np\n",
    "import matplotlib.pyplot as plt"
   ]
  },
  {
   "cell_type": "code",
   "execution_count": 2,
   "metadata": {
    "collapsed": true
   },
   "outputs": [],
   "source": [
    "# Load the wine dataset\n",
    "wtestdata = pd.read_csv('wine_test_data.csv')\n",
    "wtestlabels = pd.read_csv('wine_test_labels.csv')\n",
    "wtraindata = pd.read_csv('wine_train_data.csv')\n",
    "wtrainlabels = pd.read_csv('wine_train_labels.csv')\n",
    "wvaldata = pd.read_csv('wine_val_data.csv')\n",
    "wvallabels = pd.read_csv('wine_val_labels.csv')"
   ]
  },
  {
   "cell_type": "code",
   "execution_count": 6,
   "metadata": {
    "collapsed": false
   },
   "outputs": [
    {
     "name": "stdout",
     "output_type": "stream",
     "text": [
      "Validation accuracy = 0.897435897436\n"
     ]
    }
   ],
   "source": [
    "clf = DecisionTreeClassifier(criterion='entropy')\n",
    "clf.fit(wtraindata, wtrainlabels)\n",
    "val_pred = clf.predict(wvaldata)\n",
    "wvallab = list(wvallabels['class'])\n",
    "print ('Validation accuracy = ' + str(np.sum(val_pred == wvallab)*1.0/len(val_pred)))"
   ]
  },
  {
   "cell_type": "code",
   "execution_count": null,
   "metadata": {
    "collapsed": true
   },
   "outputs": [],
   "source": []
  }
 ],
 "metadata": {
  "kernelspec": {
   "display_name": "Python [conda env:py36]",
   "language": "python",
   "name": "conda-env-py36-py"
  },
  "language_info": {
   "codemirror_mode": {
    "name": "ipython",
    "version": 3
   },
   "file_extension": ".py",
   "mimetype": "text/x-python",
   "name": "python",
   "nbconvert_exporter": "python",
   "pygments_lexer": "ipython3",
   "version": "3.6.1"
  }
 },
 "nbformat": 4,
 "nbformat_minor": 2
}
