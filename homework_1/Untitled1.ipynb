{
 "cells": [
  {
   "cell_type": "code",
   "execution_count": 1,
   "metadata": {
    "collapsed": true
   },
   "outputs": [],
   "source": [
    "from sklearn import datasets\n",
    "from sklearn.tree import DecisionTreeClassifier, export_graphviz\n",
    "import pydotplus\n",
    "from sklearn.model_selection import train_test_split\n",
    "import pandas as pd\n",
    "import numpy as np\n",
    "import matplotlib.pyplot as plt"
   ]
  },
  {
   "cell_type": "code",
   "execution_count": 2,
   "metadata": {
    "collapsed": true
   },
   "outputs": [],
   "source": [
    "# Load the wine dataset\n",
    "wtestdata = pd.read_csv('wine_test_data.csv')\n",
    "wtestlabels = pd.read_csv('wine_test_labels.csv')\n",
    "wtraindata = pd.read_csv('wine_train_data.csv')\n",
    "wtrainlabels = pd.read_csv('wine_train_labels.csv')\n",
    "wvaldata = pd.read_csv('wine_val_data.csv')\n",
    "wvallabels = pd.read_csv('wine_val_labels.csv')"
   ]
  },
  {
   "cell_type": "code",
   "execution_count": 7,
   "metadata": {
    "collapsed": false
   },
   "outputs": [
    {
     "name": "stdout",
     "output_type": "stream",
     "text": [
      "Validation accuracy = 0.948717948718\n"
     ]
    }
   ],
   "source": [
    "clf = DecisionTreeClassifier(criterion='gini')\n",
    "clf.fit(wtraindata, wtrainlabels)\n",
    "val_pred = clf.predict(wvaldata)\n",
    "wvallab = list(wvallabels['class'])\n",
    "print ('Validation accuracy = ' + str(np.sum(val_pred == wvallab)*1.0/len(val_pred)))"
   ]
  },
  {
   "cell_type": "code",
   "execution_count": 13,
   "metadata": {
    "collapsed": false
   },
   "outputs": [
    {
     "name": "stdout",
     "output_type": "stream",
     "text": [
      "Validation accuracy = 0.974358974359\n"
     ]
    }
   ],
   "source": [
    "clf1 = DecisionTreeClassifier(criterion='entropy')\n",
    "clf1.fit(wtraindata, wtrainlabels)\n",
    "val_pred = clf1.predict(wvaldata)\n",
    "wvallab = list(wvallabels['class'])\n",
    "print ('Validation accuracy = ' + str(np.sum(val_pred == wvallab)*1.0/len(val_pred)))"
   ]
  },
  {
   "cell_type": "markdown",
   "metadata": {},
   "source": [
    "According the accuracy of two criterions, we will use gini to train our model"
   ]
  },
  {
   "cell_type": "code",
   "execution_count": 5,
   "metadata": {
    "collapsed": true
   },
   "outputs": [],
   "source": [
    "#Using train data and validation data to training our model\n",
    "X_trainframes = [wtraindata, wvaldata]\n",
    "Y_trainframes = [wtrainlabels,wvallabels]\n",
    "X_train = pd.concat(X_trainframes)\n",
    "Y_train = pd.concat(Y_trainframes)"
   ]
  },
  {
   "cell_type": "code",
   "execution_count": 14,
   "metadata": {
    "collapsed": false
   },
   "outputs": [
    {
     "name": "stdout",
     "output_type": "stream",
     "text": [
      "Test accuracy = 0.769230769231\n"
     ]
    }
   ],
   "source": [
    "#The accuracy on the test data\n",
    "clf = DecisionTreeClassifier(criterion='entropy')\n",
    "clf.fit(X_train, Y_train)\n",
    "test_pred = clf.predict(wtestdata)\n",
    "wtestlab = list(wtestlabels['class'])\n",
    "print ('Test accuracy = ' + str(np.sum(test_pred == wtestlab)*1.0/len(test_pred)))"
   ]
  },
  {
   "cell_type": "markdown",
   "metadata": {},
   "source": [
    "Our results showed that the accuracy on the validataion data is 97% by using Decision Tree model on train data for entropy criterions. However, the accuracy on the validation data is 90% when using gini criterions. According to our results we adopted entropy criteerions to predict the test data. When we use trained model to predict test data, the accuracy attained 77%."
   ]
  },
  {
   "cell_type": "markdown",
   "metadata": {},
   "source": [
    "Question 5: Use the criterion selected above to train Decision Tree model on train data for min samples split=f2,5,10,20g and report the accuracies on the validation data. Select the best parameter and report the accuracy on the test data. (2 marks)"
   ]
  },
  {
   "cell_type": "code",
   "execution_count": 15,
   "metadata": {
    "collapsed": false
   },
   "outputs": [
    {
     "name": "stdout",
     "output_type": "stream",
     "text": [
      "when min_sample_split is 2\n",
      "we get the Validation accuracy = 0.948717948718\n",
      "when min_sample_split is 5\n",
      "we get the Validation accuracy = 0.948717948718\n",
      "when min_sample_split is 10\n",
      "we get the Validation accuracy = 0.948717948718\n",
      "when min_sample_split is 20\n",
      "we get the Validation accuracy = 0.923076923077\n"
     ]
    }
   ],
   "source": [
    "#min_sample_split=2,5,10,20\n",
    "for i in (2,5,10,20):\n",
    "    clf = DecisionTreeClassifier(criterion='entropy', min_samples_split=i)\n",
    "    clf.fit(wtraindata, wtrainlabels)\n",
    "    val_pred = clf.predict(wvaldata)\n",
    "    wvallab = list(wvallabels['class'])\n",
    "    print ('when min_sample_split is %s' % i)\n",
    "    print ('we get the Validation accuracy = ' + str(np.sum(val_pred == wvallab)*1.0/len(val_pred)))"
   ]
  },
  {
   "cell_type": "code",
   "execution_count": null,
   "metadata": {
    "collapsed": true
   },
   "outputs": [],
   "source": []
  }
 ],
 "metadata": {
  "kernelspec": {
   "display_name": "Python [conda env:py36]",
   "language": "python",
   "name": "conda-env-py36-py"
  },
  "language_info": {
   "codemirror_mode": {
    "name": "ipython",
    "version": 3
   },
   "file_extension": ".py",
   "mimetype": "text/x-python",
   "name": "python",
   "nbconvert_exporter": "python",
   "pygments_lexer": "ipython3",
   "version": "3.6.1"
  }
 },
 "nbformat": 4,
 "nbformat_minor": 2
}
